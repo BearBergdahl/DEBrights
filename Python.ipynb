{
 "cells": [
  {
   "cell_type": "markdown",
   "metadata": {},
   "source": [
    "# Python datastructures\n",
    "### A walkthrough\n",
    "- Lists\n",
    "- Tuples\n",
    "- Dictionaries\n",
    "- Sets"
   ]
  },
  {
   "cell_type": "markdown",
   "metadata": {},
   "source": [
    "## Lists\n",
    "\n",
    "- Lists are ordered\n",
    "- Lists contain arbitrary objects (almost anything).\n",
    "- Lists has indices (index) and objects can be accessed by index.\n",
    "- Lists can be nested. A list in a list in a list of lists. \n",
    "- Lists are mutable. The list can change, objects (like other lists) in it can change.\n",
    "- Lists are dynamic. They can change size in a dynamic way."
   ]
  },
  {
   "cell_type": "code",
   "execution_count": 19,
   "metadata": {},
   "outputs": [
    {
     "name": "stdout",
     "output_type": "stream",
     "text": [
      "[2, 4, 6, 8]\n"
     ]
    }
   ],
   "source": [
    "# Demo 1 Ordered list\n",
    "\n",
    "my_ordered_stuff = [2,4,6,8]\n",
    "print(my_ordered_stuff)"
   ]
  },
  {
   "cell_type": "code",
   "execution_count": 20,
   "metadata": {},
   "outputs": [
    {
     "name": "stdout",
     "output_type": "stream",
     "text": [
      "[2, 4, 6, 8, [\"ain't\", 'never', 'too', 'late']]\n"
     ]
    }
   ],
   "source": [
    "# Demo 2 Contains almost everything\n",
    "\n",
    "my_ordered_stuff.append(['ain\\'t', 'never', 'too', 'late'])\n",
    "print(my_ordered_stuff)"
   ]
  },
  {
   "cell_type": "markdown",
   "metadata": {},
   "source": [
    "Lets add more!"
   ]
  },
  {
   "cell_type": "code",
   "execution_count": 21,
   "metadata": {},
   "outputs": [
    {
     "name": "stdout",
     "output_type": "stream",
     "text": [
      "2\n",
      "4\n",
      "6\n",
      "8\n",
      "ain't\n",
      "never\n",
      "too\n",
      "late\n",
      "\n",
      "\n",
      "Me and my radio truckin' on through the night\n"
     ]
    }
   ],
   "source": [
    "my_ordered_stuff.append('\\n')\n",
    "my_ordered_stuff.append(\"Me and my radio truckin' on through the night\")\n",
    "for each in my_ordered_stuff:\n",
    "    if (type(each) is list):\n",
    "        for nested in each:\n",
    "            print (nested)\n",
    "    else:        \n",
    "        print(each)"
   ]
  }
 ],
 "metadata": {
  "kernelspec": {
   "display_name": "Python 3",
   "language": "python",
   "name": "python3"
  },
  "language_info": {
   "codemirror_mode": {
    "name": "ipython",
    "version": 3
   },
   "file_extension": ".py",
   "mimetype": "text/x-python",
   "name": "python",
   "nbconvert_exporter": "python",
   "pygments_lexer": "ipython3",
   "version": "3.12.0"
  }
 },
 "nbformat": 4,
 "nbformat_minor": 2
}
