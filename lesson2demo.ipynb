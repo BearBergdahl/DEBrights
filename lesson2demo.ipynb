{
 "cells": [
  {
   "cell_type": "markdown",
   "metadata": {},
   "source": [
    "## Control flows and loops\n",
    "* `while` and `for` loops.\n",
    "* `if`/`else` (and `elif`)\n",
    "* `try` - `except` (*often called try-catch from other languages, where you try and then catch an exception, Python defines the exception directly and skips a piece.*)\n",
    "* filehandling  `with open()`, and `open()` `close()`\n"
   ]
  },
  {
   "cell_type": "code",
   "execution_count": null,
   "metadata": {},
   "outputs": [],
   "source": [
    "# Control flows\n",
    "\n",
    "a_list_of_lines = []\n",
    "while len(a_list_of_lines) == 0 :\n",
    "    filename = input('Input filename: ')\n",
    "    try:\n",
    "        with open(filename) as afile:\n",
    "            a_list_of_lines = afile.readlines()\n",
    "            print(a_list_of_lines[5])\n",
    "    except FileNotFoundError:\n",
    "        print('Wrong filename, try again: ')\n"
   ]
  },
  {
   "cell_type": "markdown",
   "metadata": {},
   "source": [
    "* For-loops and different kind of iterables. \n",
    "* A quick dip into `chr()` [chars](https://www.w3schools.com/charsets/ref_html_ascii.asp)   \n",
    "    Remember, Python 3 uses the expanded UTF-8. ASCII is an older, smaller set, but they are partially compatible of course."
   ]
  },
  {
   "cell_type": "code",
   "execution_count": null,
   "metadata": {},
   "outputs": [],
   "source": [
    "for uneven in range(1,99,2):\n",
    "    if uneven%3 != 0:\n",
    "        print(uneven)\n",
    "    else:\n",
    "        print(f'This number is uneven {uneven} and divisible by 3: {uneven/2:.2f} and we have divided it in half')\n",
    "  \n",
    "for letter in 'banana':\n",
    "    print(letter)\n",
    "\n",
    "for fruit in ['banana', 'pineaple', 'kiwi']:\n",
    "    for letter in fruit:\n",
    "        print(letter)\n",
    "\n",
    "\n",
    "for i in range(33,127):\n",
    "    print(f'Hello {chr(i)}') "
   ]
  },
  {
   "cell_type": "markdown",
   "metadata": {},
   "source": [
    "Guard your inputs, if you need an int you can of course give instructions and hope for attentive users, but your best bet is not depending on dependeable users..."
   ]
  },
  {
   "cell_type": "code",
   "execution_count": null,
   "metadata": {},
   "outputs": [],
   "source": [
    "try:\n",
    "    number = int(input('give me a number'))\n",
    "    print(number)\n",
    "except ValueError:\n",
    "    print('oh no')"
   ]
  }
 ],
 "metadata": {
  "kernelspec": {
   "display_name": "Python 3",
   "language": "python",
   "name": "python3"
  },
  "language_info": {
   "codemirror_mode": {
    "name": "ipython",
    "version": 3
   },
   "file_extension": ".py",
   "mimetype": "text/x-python",
   "name": "python",
   "nbconvert_exporter": "python",
   "pygments_lexer": "ipython3",
   "version": "3.12.0"
  }
 },
 "nbformat": 4,
 "nbformat_minor": 2
}
