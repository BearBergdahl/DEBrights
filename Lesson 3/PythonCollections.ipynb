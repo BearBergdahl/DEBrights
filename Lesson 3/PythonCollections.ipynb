{
 "cells": [
  {
   "cell_type": "markdown",
   "metadata": {},
   "source": [
    "# Python datastructures\n",
    "### A walkthrough\n",
    "- Lists\n",
    "- Tuples\n",
    "- Dictionaries\n",
    "- Sets"
   ]
  },
  {
   "cell_type": "markdown",
   "metadata": {},
   "source": [
    "## Lists\n",
    "\n",
    "- Lists are ordered\n",
    "- Lists contain arbitrary objects (almost anything).\n",
    "- Lists has indices (index) and objects can be accessed by index.\n",
    "- Lists can be nested. A list in a list in a list of lists. \n",
    "- Lists are mutable. The list can change, objects (like other lists) in it can change.\n",
    "- Lists are dynamic. They can change size in a dynamic way."
   ]
  },
  {
   "cell_type": "code",
   "execution_count": 18,
   "metadata": {},
   "outputs": [
    {
     "name": "stdout",
     "output_type": "stream",
     "text": [
      "[2, 4, 6, 8]\n",
      "[1, 2, 3, 4]\n",
      "[2, 4, 6, 8]\n",
      "[1, 2, 5, 3, 4]\n",
      "[2, 4, 6, 8]\n"
     ]
    }
   ],
   "source": [
    "# Demo 1 Ordered list\n",
    "\n",
    "my_ordered_stuff = [2,4,6,8]\n",
    "print(my_ordered_stuff)\n",
    "# can be created from another collection\n",
    "listalt = list((1,2,3,4)) #gives the method a tuple, creates a list from it.\n",
    "print(listalt)\n",
    "# my_ordered_stuff.append(list(listalt))\n",
    "print(my_ordered_stuff)\n",
    "listalt.insert(2,5)\n",
    "print(listalt)\n",
    "print(my_ordered_stuff)"
   ]
  },
  {
   "cell_type": "markdown",
   "metadata": {},
   "source": [
    "## Pass by reference\n",
    "Demo some pass by reference"
   ]
  },
  {
   "cell_type": "code",
   "execution_count": 19,
   "metadata": {},
   "outputs": [
    {
     "name": "stdout",
     "output_type": "stream",
     "text": [
      "1302009442352\n",
      "1302009438192\n",
      "1302009435312\n",
      "1302009438192\n",
      "1302009438192\n",
      "__________________________________\n",
      "1302009438192\n",
      "1302009445552\n",
      "1302009438192\n",
      "1302014163760\n"
     ]
    }
   ],
   "source": [
    "egg = 'boiled egg'\n",
    "spam = 'ham, maybe'\n",
    "bacon = 'pork, kind of'\n",
    "print(id(egg))\n",
    "print(id(spam))\n",
    "print(id(bacon))\n",
    "egg = spam\n",
    "print(id(egg))\n",
    "print(id(spam))\n",
    "\n",
    "import copy\n",
    "print('__________________________________')\n",
    "print(id(spam))\n",
    "egg = (spam +'.')[:-1]\n",
    "print(id(egg))\n",
    "\n",
    "spam2 = 'ham, maybe'\n",
    "print(id(spam))\n",
    "print(id(spam2))\n"
   ]
  },
  {
   "cell_type": "code",
   "execution_count": 20,
   "metadata": {},
   "outputs": [
    {
     "name": "stdout",
     "output_type": "stream",
     "text": [
      "[2, 4, 6, 8, [\"ain't\", 'never', 'too', 'late']]\n"
     ]
    }
   ],
   "source": [
    "# Demo 2 Contains almost everything\n",
    "\n",
    "my_ordered_stuff.append([\"ain't\", 'never', 'too', 'late'])\n",
    "print(my_ordered_stuff)"
   ]
  },
  {
   "cell_type": "markdown",
   "metadata": {},
   "source": [
    "Lets add more!"
   ]
  },
  {
   "cell_type": "code",
   "execution_count": 21,
   "metadata": {},
   "outputs": [
    {
     "name": "stdout",
     "output_type": "stream",
     "text": [
      "2\n",
      "4\n",
      "6\n",
      "8\n",
      "ain't\n",
      "never\n",
      "too\n",
      "late\n",
      "\n",
      "\n",
      "Me and my radio truckin' on through the night\n"
     ]
    }
   ],
   "source": [
    "my_ordered_stuff.append('\\n')\n",
    "my_ordered_stuff.append(\"Me and my radio truckin' on through the night\")\n",
    "for each in my_ordered_stuff:\n",
    "    if (type(each) is list):\n",
    "        for nested in each:\n",
    "            print (nested)\n",
    "    else:        \n",
    "        print(each)"
   ]
  },
  {
   "cell_type": "markdown",
   "metadata": {},
   "source": [
    "### Slicing"
   ]
  },
  {
   "cell_type": "code",
   "execution_count": 22,
   "metadata": {},
   "outputs": [
    {
     "name": "stdout",
     "output_type": "stream",
     "text": [
      "[[\"ain't\", 'never', 'too', 'late']]\n",
      "[2, 4, 6]\n",
      "[2, 4, 6, 8, [\"ain't\", 'never', 'too', 'late'], '\\n', \"Me and my radio truckin' on through the night\"]\n"
     ]
    }
   ],
   "source": [
    "sliced_list = my_ordered_stuff[4:5]\n",
    "number_slice = my_ordered_stuff[0:3]\n",
    "print(sliced_list)\n",
    "print(number_slice)\n",
    "print(my_ordered_stuff)"
   ]
  },
  {
   "cell_type": "markdown",
   "metadata": {},
   "source": [
    "### Tools and methods"
   ]
  },
  {
   "cell_type": "code",
   "execution_count": 24,
   "metadata": {},
   "outputs": [
    {
     "name": "stdout",
     "output_type": "stream",
     "text": [
      "3\n",
      "7\n"
     ]
    }
   ],
   "source": [
    "# len() prints the length of an collection.\n",
    "print(len(number_slice))\n",
    "print(len(my_ordered_stuff))"
   ]
  },
  {
   "cell_type": "markdown",
   "metadata": {},
   "source": [
    "## Tuple\n",
    "- Tuples are immutable\n",
    "- Sequences of any type of object. \n",
    "- Default return if you return multiple values in function\n",
    "Tuples has indices like lists and can be accesed by it´s index."
   ]
  },
  {
   "cell_type": "code",
   "execution_count": 25,
   "metadata": {},
   "outputs": [
    {
     "name": "stdout",
     "output_type": "stream",
     "text": [
      "(1, 2, 3, 'four', '5', 6, [7, 8])\n"
     ]
    }
   ],
   "source": [
    "# Explicit creation, comma separated objects inside parentheses ()\n",
    "my_tuple = (1,2,3,'four', '5', 2+4, [7,8])\n",
    "print(my_tuple)"
   ]
  },
  {
   "cell_type": "code",
   "execution_count": 35,
   "metadata": {},
   "outputs": [
    {
     "name": "stdout",
     "output_type": "stream",
     "text": [
      "(2, 3, '2', 'odd')\n",
      "<class 'tuple'>\n",
      "fiftyfive\n",
      "44\n",
      "33\n",
      "(33, 44, 'fiftyfive')\n",
      "(1, 2, 3, 4)\n",
      "2\n"
     ]
    }
   ],
   "source": [
    "#Some other creation methods\n",
    "another_tuple = 2,3,'2','odd'\n",
    "print(another_tuple)\n",
    "\n",
    "def my_tuplegenerator(anumber, another, aword):\n",
    "    return anumber, another, aword\n",
    "\n",
    "print(type(my_tuplegenerator(2,3,'0dd')))\n",
    "num, num2, word = my_tuplegenerator(33,\"44\",'fiftyfive')\n",
    "print(word)\n",
    "print(num2)\n",
    "new_tuple = my_tuplegenerator(33,44,'fiftyfive')\n",
    "print(num)\n",
    "print(new_tuple)\n",
    "\n",
    "demo_tuple = 1,2,3,4\n",
    "a,b,c,d = demo_tuple\n",
    "print(demo_tuple)\n",
    "print(b)\n"
   ]
  },
  {
   "cell_type": "markdown",
   "metadata": {},
   "source": [
    "# Dictionaries\n",
    "\n",
    "Dictionaries are collections containing key:value pairs.\n",
    "\n",
    "* Dictionaries are mutable.\n",
    "* Dictionaries are dynamic. They can grow and shrink as needed.\n",
    "* Dictionaries can be nested. Like a list can contain another list, a dictionary can contain another dictionary. \n",
    "* A dictionary can also contain a list, and vice versa.\n",
    "\n",
    "Dictionaries has values accessed by key (similar but not the same as list and indices)."
   ]
  },
  {
   "cell_type": "code",
   "execution_count": 46,
   "metadata": {},
   "outputs": [
    {
     "name": "stdout",
     "output_type": "stream",
     "text": [
      "{1: 'water', 2: 'milk', 3: 'juice', 4: 'coffe'}\n",
      "{'drink': 'coffee', 'bread': 'rye', 'eggs': 'scrambled'}\n",
      "{'drink': 'milk', 'food': 'meatballs'}\n",
      "{'breakfast': {'drink': 'coffee', 'bread': 'rye', 'eggs': 'scrambled'}, 'lunch': {'drink': 'milk', 'food': 'meatballs'}, 'dinner': {'drink': 'beer', 'vegetables': 'cucumber', 'food': 'halloumi and sweet potato fritters'}, 1: 'water', 2: 'milk', 3: 'juice', 4: 'coffe'}\n",
      "coffee rye\n",
      "dict_keys(['breakfast', 'lunch', 'dinner', 1, 2, 3, 4])\n",
      "dict_keys(['drink', 'vegetables', 'food'])\n"
     ]
    }
   ],
   "source": [
    "drinks = [(1, 'water'), [2, 'milk'], {3, 'juice'}, (4, 'coffe')]\n",
    "drinkdict = dict(drinks)\n",
    "print(drinkdict)\n",
    "#nested declaration\n",
    "meals = {'breakfast' : {'drink':'coffee', 'bread': 'rye', 'eggs': 'scrambled'}, 'lunch': {'drink': 'milk', 'food': 'meatballs'},\n",
    "          'dinner':{'drink': 'beer', 'vegetables': 'cucumber', 'food':'halloumi and sweet potato fritters'}}\n",
    "print(meals['breakfast'])\n",
    "meals.update(drinkdict)\n",
    "print(meals['lunch'])\n",
    "print(meals)\n",
    "\n",
    "print(meals[\"breakfast\"][\"drink\"], meals['breakfast']['bread'])\n",
    "print(meals.keys())\n",
    "print(meals['dinner'].keys())"
   ]
  },
  {
   "cell_type": "markdown",
   "metadata": {},
   "source": [
    "# Set \n",
    "\n",
    "* Set contains unique elements.\n",
    "* Sets are unordered.\n"
   ]
  },
  {
   "cell_type": "code",
   "execution_count": null,
   "metadata": {},
   "outputs": [],
   "source": [
    "x1 = {\"foo\", \"bar\", \"quux\"}\n",
    "x2 = {'quux', 'baz', 'qiix'}\n",
    "\n",
    "union_of_x1x2 = x1 | x2\n",
    "another_union = x1.union(x2)\n",
    "x1.add('foo')\n",
    "print(x1)\n",
    "print(another_union)"
   ]
  },
  {
   "cell_type": "markdown",
   "metadata": {},
   "source": []
  }
 ],
 "metadata": {
  "kernelspec": {
   "display_name": "Python 3",
   "language": "python",
   "name": "python3"
  },
  "language_info": {
   "codemirror_mode": {
    "name": "ipython",
    "version": 3
   },
   "file_extension": ".py",
   "mimetype": "text/x-python",
   "name": "python",
   "nbconvert_exporter": "python",
   "pygments_lexer": "ipython3",
   "version": "3.12.0"
  }
 },
 "nbformat": 4,
 "nbformat_minor": 2
}
