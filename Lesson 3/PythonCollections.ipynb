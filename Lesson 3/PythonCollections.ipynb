{
 "cells": [
  {
   "cell_type": "markdown",
   "metadata": {},
   "source": [
    "# Python datastructures\n",
    "### A walkthrough\n",
    "- Lists\n",
    "- Tuples\n",
    "- Dictionaries\n",
    "- Sets"
   ]
  },
  {
   "cell_type": "markdown",
   "metadata": {},
   "source": [
    "## Lists\n",
    "\n",
    "- Lists are ordered\n",
    "- Lists contain arbitrary objects (almost anything).\n",
    "- Lists has indices (index) and objects can be accessed by index.\n",
    "- Lists can be nested. A list in a list in a list of lists. \n",
    "- Lists are mutable. The list can change, objects (like other lists) in it can change.\n",
    "- Lists are dynamic. They can change size in a dynamic way."
   ]
  },
  {
   "cell_type": "code",
   "execution_count": null,
   "metadata": {},
   "outputs": [],
   "source": [
    "# Demo 1 Ordered list\n",
    "\n",
    "my_ordered_stuff = [2,4,6,8]\n",
    "print(my_ordered_stuff)\n",
    "# can be created from another collection\n",
    "listalt = list((1,2,3,4)) #gives the method a tuple, creates a list from it.\n",
    "print(listalt)\n",
    "# my_ordered_stuff.append(list(listalt))\n",
    "print(my_ordered_stuff)\n",
    "listalt.insert(2,5)\n",
    "print(listalt)\n",
    "print(my_ordered_stuff)"
   ]
  },
  {
   "cell_type": "markdown",
   "metadata": {},
   "source": [
    "## Pass by reference\n",
    "Demo some pass by reference"
   ]
  },
  {
   "cell_type": "code",
   "execution_count": null,
   "metadata": {},
   "outputs": [],
   "source": [
    "egg = 'boiled egg'\n",
    "spam = 'ham, maybe'\n",
    "bacon = 'pork, kind of'\n",
    "print(id(egg))\n",
    "print(id(spam))\n",
    "print(id(bacon))\n",
    "egg = spam\n",
    "print(id(egg))\n",
    "print(id(spam))\n",
    "\n",
    "import copy\n",
    "print('__________________________________')\n",
    "print(id(spam))\n",
    "egg = (spam +'.')[:-1]\n",
    "print(id(egg))\n",
    "\n",
    "spam2 = 'ham, maybe'\n",
    "print(id(spam))\n",
    "print(id(spam2))\n"
   ]
  },
  {
   "cell_type": "code",
   "execution_count": null,
   "metadata": {},
   "outputs": [],
   "source": [
    "# Demo 2 Contains almost everything\n",
    "\n",
    "my_ordered_stuff.append([\"ain't\", 'never', 'too', 'late'])\n",
    "print(my_ordered_stuff)"
   ]
  },
  {
   "cell_type": "markdown",
   "metadata": {},
   "source": [
    "Lets add more!"
   ]
  },
  {
   "cell_type": "code",
   "execution_count": null,
   "metadata": {},
   "outputs": [],
   "source": [
    "my_ordered_stuff.append('\\n')\n",
    "my_ordered_stuff.append(\"Me and my radio truckin' on through the night\")\n",
    "for each in my_ordered_stuff:\n",
    "    if (type(each) is list):\n",
    "        for nested in each:\n",
    "            print (nested)\n",
    "    else:        \n",
    "        print(each)"
   ]
  },
  {
   "cell_type": "markdown",
   "metadata": {},
   "source": [
    "### Slicing"
   ]
  },
  {
   "cell_type": "code",
   "execution_count": null,
   "metadata": {},
   "outputs": [],
   "source": [
    "sliced_list = my_ordered_stuff[4:5]\n",
    "number_slice = my_ordered_stuff[0:3]\n",
    "print(sliced_list)\n",
    "print(number_slice)\n",
    "print(my_ordered_stuff)"
   ]
  },
  {
   "cell_type": "markdown",
   "metadata": {},
   "source": [
    "### Tools and methods"
   ]
  },
  {
   "cell_type": "code",
   "execution_count": null,
   "metadata": {},
   "outputs": [],
   "source": [
    "# len() prints the length of an collection.\n",
    "print(len(number_slice))\n",
    "print(len(my_ordered_stuff))"
   ]
  },
  {
   "cell_type": "markdown",
   "metadata": {},
   "source": [
    "Reading: https://automatetheboringstuff.com/\n",
    "\n",
    "Content: https://automatetheboringstuff.com/#toc\n",
    "\n",
    "The book is excellent, some of the used libraries are not best practice today.\n",
    "The IDE/programming environment (Mu) used is outdated.\n",
    "\n",
    "Chapter 4 & 5 should be an excellent companions to todays lesson."
   ]
  },
  {
   "cell_type": "markdown",
   "metadata": {},
   "source": [
    "## Tuple\n",
    "- Tuples are immutable\n",
    "- Sequences of any type of object. \n",
    "- Default return if you return multiple values in function\n",
    "Tuples has indices like lists and can be accesed by it´s index."
   ]
  },
  {
   "cell_type": "code",
   "execution_count": null,
   "metadata": {},
   "outputs": [],
   "source": [
    "# Explicit creation, comma separated objects inside parentheses ()\n",
    "my_tuple = (1,2,3,'four', '5', 2+4, [7,8])\n",
    "print(my_tuple)"
   ]
  },
  {
   "cell_type": "code",
   "execution_count": null,
   "metadata": {},
   "outputs": [],
   "source": [
    "#Some other creation methods\n",
    "another_tuple = 2,3,'2','odd'\n",
    "print(another_tuple)\n",
    "\n",
    "def my_tuplegenerator(anumber, another, aword):\n",
    "    return anumber, another, aword\n",
    "\n",
    "print(type(my_tuplegenerator(2,3,'0dd')))\n",
    "num, num2, word = my_tuplegenerator(33,\"44\",'fiftyfive')\n",
    "print(word)\n",
    "print(num2)\n",
    "new_tuple = my_tuplegenerator(33,44,'fiftyfive')\n",
    "print(num)\n",
    "print(new_tuple)\n",
    "\n",
    "demo_tuple = 1,2,3,4\n",
    "a,b,c,d = demo_tuple\n",
    "print(demo_tuple)\n",
    "print(b)\n"
   ]
  },
  {
   "cell_type": "markdown",
   "metadata": {},
   "source": [
    "Lists and tuples: https://realpython.com/python-lists-tuples/\n",
    "\n",
    "Realpython has lots of free material. You need to register but don't need a subscription.\n"
   ]
  },
  {
   "cell_type": "markdown",
   "metadata": {},
   "source": [
    "# Dictionaries\n",
    "\n",
    "Dictionaries are collections containing key:value pairs.\n",
    "\n",
    "* Dictionaries are mutable.\n",
    "* Dictionaries are dynamic. They can grow and shrink as needed.\n",
    "* Dictionaries can be nested. Like a list can contain another list, a dictionary can contain another dictionary. \n",
    "* A dictionary can also contain a list, and vice versa.\n",
    "\n",
    "Dictionaries has values accessed by key (similar but not the same as list and indices)."
   ]
  },
  {
   "cell_type": "code",
   "execution_count": null,
   "metadata": {},
   "outputs": [],
   "source": [
    "drinks = [(1, 'water'), [2, 'milk'], {3, 'juice'}, (4, 'coffe')]\n",
    "drinkdict = dict(drinks)\n",
    "print(drinkdict)\n",
    "#nested declaration\n",
    "meals = {'breakfast' : {'drink':'coffee', 'bread': 'rye', 'eggs': 'scrambled'}, 'lunch': {'drink': 'milk', 'food': 'meatballs'},\n",
    "          'dinner':{'drink': 'beer', 'vegetables': 'cucumber', 'food':'halloumi and sweet potato fritters'}}\n",
    "print(meals['breakfast'])\n",
    "meals.update(drinkdict)\n",
    "print(meals['lunch'])\n",
    "print(meals)\n",
    "\n",
    "print(meals[\"breakfast\"][\"drink\"], meals['breakfast']['bread'])\n",
    "print(meals.keys())\n",
    "print(meals['dinner'].keys())"
   ]
  },
  {
   "cell_type": "markdown",
   "metadata": {},
   "source": [
    "https://realpython.com/python-dicts/\n",
    "\n",
    "and maybe a bit advanced: https://realpython.com/iterate-through-dictionary-python/"
   ]
  },
  {
   "cell_type": "markdown",
   "metadata": {},
   "source": [
    "# Set \n",
    "\n",
    "* Set contains unique elements.\n",
    "* Sets are unordered.\n"
   ]
  },
  {
   "cell_type": "code",
   "execution_count": null,
   "metadata": {},
   "outputs": [],
   "source": [
    "x1 = {\"foo\", \"bar\", \"quux\"}\n",
    "x2 = {'quux', 'baz', 'qiix'}\n",
    "\n",
    "union_of_x1x2 = x1 | x2\n",
    "another_union = x1.union(x2)\n",
    "x1.add('foo')\n",
    "print(x1)\n",
    "print(another_union)"
   ]
  },
  {
   "cell_type": "markdown",
   "metadata": {},
   "source": [
    "https://realpython.com/python-sets/"
   ]
  }
 ],
 "metadata": {
  "kernelspec": {
   "display_name": "Python 3",
   "language": "python",
   "name": "python3"
  },
  "language_info": {
   "codemirror_mode": {
    "name": "ipython",
    "version": 3
   },
   "file_extension": ".py",
   "mimetype": "text/x-python",
   "name": "python",
   "nbconvert_exporter": "python",
   "pygments_lexer": "ipython3",
   "version": "3.12.0"
  }
 },
 "nbformat": 4,
 "nbformat_minor": 2
}
