{
 "cells": [
  {
   "cell_type": "markdown",
   "metadata": {},
   "source": [
    "# List Comprehension"
   ]
  },
  {
   "cell_type": "code",
   "execution_count": null,
   "metadata": {},
   "outputs": [],
   "source": [
    "# simplest example\n",
    "\n",
    "my_numbers = [i for i in range(100)]\n",
    "print(my_numbers)\n"
   ]
  },
  {
   "cell_type": "markdown",
   "metadata": {},
   "source": [
    "## Step 2\n",
    "But as before, any statement that computes to an iterable can be used"
   ]
  },
  {
   "cell_type": "code",
   "execution_count": null,
   "metadata": {},
   "outputs": [],
   "source": [
    "my_odd_numbers = [i for i in range(100) if i%2 == 0]\n",
    "print(my_odd_numbers)"
   ]
  },
  {
   "cell_type": "markdown",
   "metadata": {},
   "source": [
    "## Step 3\n",
    "And it doesn't have to be numbers in the list elements"
   ]
  },
  {
   "cell_type": "code",
   "execution_count": null,
   "metadata": {},
   "outputs": [],
   "source": [
    "fruits = [\"Apples\", \"Peaches\", \"Pears\", \"Bananas\"]\n",
    "nums = range(1, len(fruits)+1, 1)\n",
    "\n",
    "print([(i, f) for i in nums for f in fruits if f[0]=='P'])"
   ]
  },
  {
   "cell_type": "markdown",
   "metadata": {},
   "source": [
    "## Further comprehension \n",
    "Can we \"list comprehend\" other iterables?"
   ]
  },
  {
   "cell_type": "code",
   "execution_count": null,
   "metadata": {},
   "outputs": [],
   "source": [
    "fruits = [\"Apples\", \"Peaches\", \"Pears\", \"Bananas\"]\n",
    "nums = range(1, len(fruits)+1, 1)\n",
    "\n",
    "print({i:f for (i,f) in zip(nums, fruits) })"
   ]
  }
 ],
 "metadata": {
  "kernelspec": {
   "display_name": "Python 3",
   "language": "python",
   "name": "python3"
  },
  "language_info": {
   "codemirror_mode": {
    "name": "ipython",
    "version": 3
   },
   "file_extension": ".py",
   "mimetype": "text/x-python",
   "name": "python",
   "nbconvert_exporter": "python",
   "pygments_lexer": "ipython3",
   "version": "3.12.0"
  }
 },
 "nbformat": 4,
 "nbformat_minor": 2
}
