{
 "cells": [
  {
   "cell_type": "markdown",
   "metadata": {},
   "source": [
    "# Python datastructures\n",
    "### A walkthrough\n",
    "- Lists\n",
    "- Tuples\n",
    "- Dictionaries\n",
    "- Sets"
   ]
  },
  {
   "cell_type": "markdown",
   "metadata": {},
   "source": [
    "## Lists\n",
    "\n",
    "- Lists are ordered\n",
    "- Lists contain arbitrary objects (almost anything).\n",
    "- Lists has indices (index) and objects can be accessed by index.\n",
    "- Lists can be nested. A list in a list in a list of lists. \n",
    "- Lists are mutable. The list can change, objects (like other lists) in it can change.\n",
    "- Lists are dynamic. They can change size in a dynamic way."
   ]
  },
  {
   "cell_type": "code",
   "execution_count": 8,
   "metadata": {},
   "outputs": [
    {
     "name": "stdout",
     "output_type": "stream",
     "text": [
      "[2, 4, 6, 8]\n",
      "[1, 2, 3, 4]\n"
     ]
    }
   ],
   "source": [
    "# Demo 1 Ordered list\n",
    "\n",
    "my_ordered_stuff = [2,4,6,8]\n",
    "print(my_ordered_stuff)\n",
    "# can be created from another collection\n",
    "listalt = list((1,2,3,4)) #gives the constructor a tuple, creates a list from it.\n",
    "print (listalt)"
   ]
  },
  {
   "cell_type": "code",
   "execution_count": 9,
   "metadata": {},
   "outputs": [
    {
     "name": "stdout",
     "output_type": "stream",
     "text": [
      "[2, 4, 6, 8, [\"ain't\", 'never', 'too', 'late']]\n"
     ]
    }
   ],
   "source": [
    "# Demo 2 Contains almost everything\n",
    "\n",
    "my_ordered_stuff.append(['ain\\'t', 'never', 'too', 'late'])\n",
    "print(my_ordered_stuff)"
   ]
  },
  {
   "cell_type": "markdown",
   "metadata": {},
   "source": [
    "Lets add more!"
   ]
  },
  {
   "cell_type": "code",
   "execution_count": 10,
   "metadata": {},
   "outputs": [
    {
     "name": "stdout",
     "output_type": "stream",
     "text": [
      "2\n",
      "4\n",
      "6\n",
      "8\n",
      "ain't\n",
      "never\n",
      "too\n",
      "late\n",
      "\n",
      "\n",
      "Me and my radio truckin' on through the night\n"
     ]
    }
   ],
   "source": [
    "my_ordered_stuff.append('\\n')\n",
    "my_ordered_stuff.append(\"Me and my radio truckin' on through the night\")\n",
    "for each in my_ordered_stuff:\n",
    "    if (type(each) is list):\n",
    "        for nested in each:\n",
    "            print (nested)\n",
    "    else:        \n",
    "        print(each)"
   ]
  },
  {
   "cell_type": "markdown",
   "metadata": {},
   "source": [
    "### Slicing"
   ]
  },
  {
   "cell_type": "code",
   "execution_count": 19,
   "metadata": {},
   "outputs": [
    {
     "name": "stdout",
     "output_type": "stream",
     "text": [
      "[[\"ain't\", 'never', 'too', 'late']]\n",
      "[2, 4, 6]\n",
      "[2, 4, 6, 8, [\"ain't\", 'never', 'too', 'late'], '\\n', \"Me and my radio truckin' on through the night\"]\n"
     ]
    }
   ],
   "source": [
    "sliced_list = my_ordered_stuff[4:5]\n",
    "number_slice = my_ordered_stuff[0:3]\n",
    "print(sliced_list)\n",
    "print(number_slice)\n",
    "print(my_ordered_stuff)"
   ]
  },
  {
   "cell_type": "code",
   "execution_count": null,
   "metadata": {},
   "outputs": [],
   "source": []
  },
  {
   "cell_type": "markdown",
   "metadata": {},
   "source": [
    "### Tools and methods"
   ]
  },
  {
   "cell_type": "code",
   "execution_count": 22,
   "metadata": {},
   "outputs": [
    {
     "name": "stdout",
     "output_type": "stream",
     "text": [
      "3\n"
     ]
    }
   ],
   "source": [
    "# len() prints the length of an collection.\n",
    "print(len(number_slice))"
   ]
  },
  {
   "cell_type": "markdown",
   "metadata": {},
   "source": [
    "## Tuple\n",
    "- Tuples are immutable\n",
    "- Sequences of any type of object. \n",
    "- Default return if you return multiple values in function"
   ]
  },
  {
   "cell_type": "code",
   "execution_count": 12,
   "metadata": {},
   "outputs": [
    {
     "name": "stdout",
     "output_type": "stream",
     "text": [
      "(1, 2, 3, 'four', '5', 6, [1, 2])\n"
     ]
    }
   ],
   "source": [
    "# Explicit creation, comma separated objects inside parentheses ()\n",
    "my_tuple = (1,2,3,'four', '5', 2+4, [7,8])\n",
    "print(my_tuple)"
   ]
  },
  {
   "cell_type": "code",
   "execution_count": 1,
   "metadata": {},
   "outputs": [
    {
     "name": "stdout",
     "output_type": "stream",
     "text": [
      "(2, 3, '2', 'odd')\n",
      "<class 'tuple'>\n",
      "33\n",
      "33\n"
     ]
    },
    {
     "data": {
      "text/plain": [
       "'ulsfdvug'"
      ]
     },
     "execution_count": 1,
     "metadata": {},
     "output_type": "execute_result"
    }
   ],
   "source": [
    "#Some other creation methods\n",
    "another_tuple = 2,3,'2','odd'\n",
    "print(another_tuple)\n",
    "def my_tuplegenerator(anumber, another, aword):\n",
    "    return anumber, another, aword\n",
    "print(type(my_tuplegenerator(2,3,'0dd')))\n",
    "num, num2, word = my_tuplegenerator(33,44,'fiftyfive')\n",
    "new_tuple = my_tuplegenerator(33,44,'fiftyfive')\n",
    "print(num)\n",
    "print(new_tuple[0])\n"
   ]
  }
 ],
 "metadata": {
  "kernelspec": {
   "display_name": "Python 3",
   "language": "python",
   "name": "python3"
  },
  "language_info": {
   "codemirror_mode": {
    "name": "ipython",
    "version": 3
   },
   "file_extension": ".py",
   "mimetype": "text/x-python",
   "name": "python",
   "nbconvert_exporter": "python",
   "pygments_lexer": "ipython3",
   "version": "3.12.0"
  }
 },
 "nbformat": 4,
 "nbformat_minor": 2
}
