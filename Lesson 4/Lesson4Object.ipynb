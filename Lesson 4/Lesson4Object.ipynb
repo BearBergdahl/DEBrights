{
 "cells": [
  {
   "cell_type": "markdown",
   "metadata": {},
   "source": [
    "# Object oriented Python\n",
    "\n",
    "> * A class is like a blueprint for a type of object.\n",
    "> * An object is a specific individual of that class that we have instanciated\n",
    "\n",
    "**Lets build a class with some functions/methods in it.**"
   ]
  },
  {
   "cell_type": "markdown",
   "metadata": {},
   "source": [
    "### A class can have class attributes.\n",
    "That's a variable declared outside of the  `__init__` method and is present in all instances of the class.\n",
    "### Instance variables is the other option\n",
    "They instantiates with the class in the `__init__`"
   ]
  },
  {
   "cell_type": "code",
   "execution_count": null,
   "metadata": {},
   "outputs": [],
   "source": [
    "class DemoClass:\n",
    "    class_variable = 'This is everywhere'\n",
    "    def __init__(self, instance_variable):\n",
    "        self.instance_variable = instance_variable\n",
    "    \n",
    "    def do_anything(self):\n",
    "        return 'a_string', 'not_a_number', instance_variable    \n",
    "            \n"
   ]
  },
  {
   "cell_type": "code",
   "execution_count": null,
   "metadata": {},
   "outputs": [],
   "source": [
    "demonstrator = DemoClass"
   ]
  },
  {
   "cell_type": "markdown",
   "metadata": {},
   "source": [
    "https://realpython.com/python3-object-oriented-programming/\n",
    "\n",
    "https://realpython.com/python-classes/#special-methods-and-protocols\n",
    "\n",
    "\n"
   ]
  }
 ],
 "metadata": {
  "language_info": {
   "name": "python"
  }
 },
 "nbformat": 4,
 "nbformat_minor": 2
}
