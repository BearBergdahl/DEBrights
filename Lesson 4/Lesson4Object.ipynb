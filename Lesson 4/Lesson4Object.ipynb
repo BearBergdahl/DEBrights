{
 "cells": [
  {
   "cell_type": "markdown",
   "metadata": {},
   "source": [
    "# Object oriented Python\n",
    "\n",
    "> * A class is like a blueprint for a type of object.\n",
    "> * An object is a specific individual of that class that we have instantiated\n",
    "\n",
    "**Lets build a class with some functions/methods in it.**"
   ]
  },
  {
   "cell_type": "markdown",
   "metadata": {},
   "source": [
    "### A class can have class attributes.\n",
    "That's a variable declared outside of the  `__init__` method and is present in all instances of the class.\n",
    "### Instance variables is the other option\n",
    "They instantiates with the class in the `__init__`\n",
    "Dunder method - methods in classes with special behaviour. It stands Double Underscore."
   ]
  },
  {
   "cell_type": "code",
   "execution_count": null,
   "metadata": {},
   "outputs": [],
   "source": [
    "class DemoClass:\n",
    "    class_variable = 'This is everywhere'\n",
    "    def __init__(self, instance_variable, _SEK_Euro):\n",
    "        self.instance_variable = instance_variable\n",
    "        self._SEK_Euro = _SEK_Euro\n",
    "    \n",
    "    def do_anything(self):\n",
    "        return 'not_a_number',  \n",
    "\n",
    "    def __str__(self):\n",
    "        return f'This is a democlass with a class_variable: {self.class_variable} and a instance variable: {self.instance_variable}'\n",
    "    \n",
    "    def __repr__(self):\n",
    "        return f'explained class_variable: {self.class_variable} list of my variables with suggested type if any: {self.instance_variable}'\n",
    "            \n",
    "demo_instance = DemoClass(42, 0.5)\n",
    "print(demo_instance.class_variable)\n",
    "print(demo_instance.instance_variable)\n",
    "print(demo_instance.do_anything())\n",
    "second_instance = DemoClass(43, 0.9 )\n",
    "print(second_instance.class_variable)\n",
    "print(second_instance.instance_variable)\n",
    "print(second_instance.do_anything())\n",
    "print(second_instance)\n",
    "print(second_instance._SEK_Euro)"
   ]
  },
  {
   "cell_type": "markdown",
   "metadata": {},
   "source": [
    "Other important Dunders are  `__str__` or `__repr__`"
   ]
  },
  {
   "cell_type": "code",
   "execution_count": null,
   "metadata": {},
   "outputs": [],
   "source": [
    "def id_generator():\n",
    "    pass\n",
    "\n",
    "class Package:\n",
    "    def __init__(self, prod_ID, priority, fragile, destination):\n",
    "        self.pkg_ID = id_generator()\n",
    "        self.priority = priority\n",
    "        self.prod_ID = prod_ID\n",
    "\n",
    "\n",
    "\n",
    "class Address: \n",
    "    def __init__(self, street, zip-code, city, region, country, reference):\n",
    "        pass"
   ]
  },
  {
   "cell_type": "markdown",
   "metadata": {},
   "source": [
    "## DnD emulator simplified."
   ]
  },
  {
   "cell_type": "code",
   "execution_count": 59,
   "metadata": {},
   "outputs": [],
   "source": [
    "import random\n",
    "\n",
    "class Character:\n",
    "    rpg = 'DnD'\n",
    "    def __init__(self, name, player, character_class):\n",
    "        self.name = name\n",
    "        self.player = player\n",
    "        self.character_class = character_class\n",
    "            \n",
    "    def roll_dice(self, sides):\n",
    "        if (type(sides) == type(1)):\n",
    "            roll_result = random.randint(1,sides)\n",
    "            return f'{self.name} the {self.character_class} rolled a {roll_result}'\n",
    "    \n",
    "    def __str__(self):\n",
    "        return f'{self.name} the {self.character_class}'\n",
    "\n",
    "# Static method\n",
    "    @staticmethod\n",
    "    def static_roll_dice(sides):\n",
    "        if (type(sides) == type(1)):\n",
    "            return random.randint(1,sides)\n",
    "            "
   ]
  },
  {
   "cell_type": "code",
   "execution_count": 60,
   "metadata": {},
   "outputs": [
    {
     "name": "stdout",
     "output_type": "stream",
     "text": [
      "Bryn the Bard rolled a 4\n",
      "Bryn the Bard\n",
      "2\n"
     ]
    }
   ],
   "source": [
    "\n",
    "bryn = Character('Bryn','Björn','Bard')\n",
    "print(bryn.roll_dice(6))\n",
    "print(bryn)\n",
    "my_roll = Character.static_roll_dice(20)\n",
    "print(my_roll)\n"
   ]
  },
  {
   "cell_type": "markdown",
   "metadata": {},
   "source": [
    "https://realpython.com/python3-object-oriented-programming/\n",
    "\n",
    "\n",
    "https://realpython.com/python-classes/\n",
    "\n",
    "[dunder-lt](https://www.geeksforgeeks.org/python-__lt__-magic-method/)\n",
    "\n",
    "https://www.markdownguide.org/cheat-sheet/\n",
    "\n",
    "\n",
    "\n"
   ]
  }
 ],
 "metadata": {
  "kernelspec": {
   "display_name": "Python 3",
   "language": "python",
   "name": "python3"
  },
  "language_info": {
   "codemirror_mode": {
    "name": "ipython",
    "version": 3
   },
   "file_extension": ".py",
   "mimetype": "text/x-python",
   "name": "python",
   "nbconvert_exporter": "python",
   "pygments_lexer": "ipython3",
   "version": "3.12.0"
  }
 },
 "nbformat": 4,
 "nbformat_minor": 2
}
